{
 "cells": [
  {
   "cell_type": "markdown",
   "id": "c8165a6e",
   "metadata": {},
   "source": [
    "### print hello world"
   ]
  },
  {
   "cell_type": "code",
   "execution_count": null,
   "id": "aa1c5052",
   "metadata": {},
   "outputs": [],
   "source": [
    "print(\"Hello World\")"
   ]
  },
  {
   "cell_type": "code",
   "execution_count": null,
   "id": "370a543d",
   "metadata": {},
   "outputs": [],
   "source": [
    "print(\"SayyedAasef\")"
   ]
  },
  {
   "cell_type": "code",
   "execution_count": null,
   "id": "1c413ffa",
   "metadata": {},
   "outputs": [],
   "source": [
    "print(\"DataScience\")"
   ]
  },
  {
   "cell_type": "markdown",
   "id": "e494a2b6",
   "metadata": {},
   "source": [
    "### Veriables"
   ]
  },
  {
   "cell_type": "code",
   "execution_count": null,
   "id": "a811d1a9",
   "metadata": {},
   "outputs": [],
   "source": [
    "name=\"Aasef\"\n",
    "Age=22\n",
    "Income=25000"
   ]
  },
  {
   "cell_type": "code",
   "execution_count": null,
   "id": "280d991c",
   "metadata": {},
   "outputs": [],
   "source": [
    "print(name)\n",
    "print(age)\n",
    "print(income)"
   ]
  },
  {
   "cell_type": "code",
   "execution_count": null,
   "id": "933ef165",
   "metadata": {},
   "outputs": [],
   "source": [
    "namelisht=\"Sayyed\",\"Aasef\"\n",
    "namelist"
   ]
  },
  {
   "cell_type": "code",
   "execution_count": null,
   "id": "8867771d",
   "metadata": {},
   "outputs": [],
   "source": [
    "name lisht=\"Sayyed\",\"Aasef\"\n",
    "name list"
   ]
  },
  {
   "cell_type": "markdown",
   "id": "a36568a4",
   "metadata": {},
   "source": [
    "### Space is not allowed"
   ]
  },
  {
   "cell_type": "code",
   "execution_count": null,
   "id": "9a7b4ae3",
   "metadata": {},
   "outputs": [],
   "source": [
    "namelisht=\"Sayyed\",\"Aasef\"\n",
    "namelist"
   ]
  },
  {
   "cell_type": "markdown",
   "id": "519c7f85",
   "metadata": {},
   "source": [
    "### Veriables name should not start with number"
   ]
  },
  {
   "cell_type": "code",
   "execution_count": null,
   "id": "bf3ec5af",
   "metadata": {},
   "outputs": [],
   "source": [
    "n2amelisht=\"Sayyed\",\"Aasef\"\n",
    "n2amelist"
   ]
  },
  {
   "cell_type": "code",
   "execution_count": null,
   "id": "cf5d8fce",
   "metadata": {},
   "outputs": [],
   "source": [
    "name+lisht=\"Sayyed\",\"Aasef\"\n",
    "name+list"
   ]
  },
  {
   "cell_type": "code",
   "execution_count": null,
   "id": "b89ed88d",
   "metadata": {},
   "outputs": [],
   "source": [
    "name_lisht=\"Sayyed\",\"Aasef\"\n",
    "name_list"
   ]
  },
  {
   "cell_type": "markdown",
   "id": "c08d6974",
   "metadata": {},
   "source": [
    "### the only allowed spl.character is underscore"
   ]
  },
  {
   "cell_type": "markdown",
   "id": "b26f9d0f",
   "metadata": {},
   "source": [
    "### Veriables name should start A-Z,a-z,or underscore"
   ]
  },
  {
   "cell_type": "code",
   "execution_count": null,
   "id": "526f7f69",
   "metadata": {},
   "outputs": [],
   "source": [
    "name=\"ai\"\n",
    "\n",
    "type(name)"
   ]
  },
  {
   "cell_type": "code",
   "execution_count": null,
   "id": "bc1eacbf",
   "metadata": {},
   "outputs": [],
   "source": [
    "x=10\n",
    "type(x)"
   ]
  },
  {
   "cell_type": "code",
   "execution_count": null,
   "id": "059f54ad",
   "metadata": {},
   "outputs": [],
   "source": [
    "x=10.7\n",
    "type(x)"
   ]
  },
  {
   "cell_type": "code",
   "execution_count": null,
   "id": "bee68a56",
   "metadata": {},
   "outputs": [],
   "source": [
    "x=True\n",
    "type(x)"
   ]
  },
  {
   "cell_type": "code",
   "execution_count": null,
   "id": "fc19db9d",
   "metadata": {},
   "outputs": [],
   "source": [
    "y=False\n",
    "type(y)"
   ]
  },
  {
   "cell_type": "code",
   "execution_count": null,
   "id": "ca469302",
   "metadata": {},
   "outputs": [],
   "source": [
    "y=True\n",
    "type(y)"
   ]
  },
  {
   "cell_type": "markdown",
   "id": "e319dd1f",
   "metadata": {},
   "source": [
    "#### python is case-sensitive"
   ]
  },
  {
   "cell_type": "code",
   "execution_count": null,
   "id": "91e66851",
   "metadata": {},
   "outputs": [],
   "source": [
    "z=\"True\"\n",
    "type(z)"
   ]
  },
  {
   "cell_type": "code",
   "execution_count": null,
   "id": "14a3e726",
   "metadata": {},
   "outputs": [],
   "source": [
    "z='True'\n",
    "type(z)"
   ]
  },
  {
   "cell_type": "markdown",
   "id": "d57f5ae8",
   "metadata": {},
   "source": [
    "#### Implicit conversion"
   ]
  },
  {
   "cell_type": "code",
   "execution_count": null,
   "id": "02829cb2",
   "metadata": {},
   "outputs": [],
   "source": [
    "x=10\n",
    "y=2\n",
    "x/y"
   ]
  },
  {
   "cell_type": "code",
   "execution_count": null,
   "id": "e2624079",
   "metadata": {},
   "outputs": [],
   "source": [
    "x=10\n",
    "y='ds'\n",
    "x+y"
   ]
  },
  {
   "cell_type": "code",
   "execution_count": null,
   "id": "e0bf4d44",
   "metadata": {},
   "outputs": [],
   "source": [
    "x=10.5\n",
    "y=10\n",
    "x+y"
   ]
  },
  {
   "cell_type": "code",
   "execution_count": null,
   "id": "6c0f40b6",
   "metadata": {},
   "outputs": [],
   "source": [
    "x=10.5\n",
    "y='10'\n",
    "x+int(y)"
   ]
  },
  {
   "cell_type": "code",
   "execution_count": null,
   "id": "1ccc7214",
   "metadata": {},
   "outputs": [],
   "source": [
    "x='ds'\n",
    "y='da'\n",
    "x+y"
   ]
  },
  {
   "cell_type": "code",
   "execution_count": null,
   "id": "15292327",
   "metadata": {},
   "outputs": [],
   "source": [
    "x=10\n",
    "y=10.4\n",
    "x+y"
   ]
  },
  {
   "cell_type": "code",
   "execution_count": null,
   "id": "4951d3bf",
   "metadata": {},
   "outputs": [],
   "source": [
    "int->float\n",
    "int->string\n",
    "float->int\n",
    "float->str\n",
    "str->int\n",
    "str->float"
   ]
  },
  {
   "cell_type": "code",
   "execution_count": null,
   "id": "79a41bf5",
   "metadata": {},
   "outputs": [],
   "source": [
    "x='hi'\n",
    "int(x)"
   ]
  },
  {
   "cell_type": "code",
   "execution_count": null,
   "id": "b74c2496",
   "metadata": {},
   "outputs": [],
   "source": [
    "x='hi'\n",
    "float(x)"
   ]
  }
 ],
 "metadata": {
  "kernelspec": {
   "display_name": "Python 3 (ipykernel)",
   "language": "python",
   "name": "python3"
  },
  "language_info": {
   "codemirror_mode": {
    "name": "ipython",
    "version": 3
   },
   "file_extension": ".py",
   "mimetype": "text/x-python",
   "name": "python",
   "nbconvert_exporter": "python",
   "pygments_lexer": "ipython3",
   "version": "3.10.9"
  }
 },
 "nbformat": 4,
 "nbformat_minor": 5
}
